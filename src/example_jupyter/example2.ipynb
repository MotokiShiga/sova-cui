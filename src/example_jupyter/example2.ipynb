{
 "cells": [
  {
   "cell_type": "markdown",
   "id": "110f4094-ed83-4eb2-9416-824d44d3e8ec",
   "metadata": {},
   "source": [
    "リング計算をするサンプル"
   ]
  },
  {
   "cell_type": "code",
   "execution_count": 1,
   "id": "469ebfd9-5569-4ae5-a873-a8166c911332",
   "metadata": {},
   "outputs": [],
   "source": [
    "import os, sys\n",
    "sys.path.append(os.path.join(os.path.dirname('__file__'), '..'))"
   ]
  },
  {
   "cell_type": "code",
   "execution_count": 2,
   "id": "94d512ab-1eaa-406c-bba1-acb673d936c5",
   "metadata": {},
   "outputs": [],
   "source": [
    "from core.file import File\n",
    "from core.molecule import RINGs"
   ]
  },
  {
   "cell_type": "markdown",
   "id": "11cda85b-0b54-4e01-8812-bb58f5ecf44f",
   "metadata": {},
   "source": [
    "cifファイルからAtomsクラスオブジェクトを生成"
   ]
  },
  {
   "cell_type": "code",
   "execution_count": 3,
   "id": "fc97ade6-e608-4474-b7b3-cec448922879",
   "metadata": {},
   "outputs": [],
   "source": [
    "path = \"../data/crystal/sio2_beta_cristobalite333.cif\"\n",
    "f = File.open(path)\n",
    "atoms = f.getatoms()"
   ]
  },
  {
   "cell_type": "markdown",
   "id": "3e1fada1-5d27-46cc-9aa8-88272652e5e5",
   "metadata": {},
   "source": [
    "RING計算するクラスRINGsのオブジェクトを生成"
   ]
  },
  {
   "cell_type": "code",
   "execution_count": 4,
   "id": "62352728-bf40-4507-a2f9-748e5b77c97f",
   "metadata": {},
   "outputs": [],
   "source": [
    "ring = RINGs(atoms)"
   ]
  },
  {
   "cell_type": "markdown",
   "id": "7402143f-235a-44a9-9f15-dbb270dd2fa6",
   "metadata": {},
   "source": [
    "GUTTMANタイプの計算。（GUTTMAN, KING, PRIMITIVE）から選択"
   ]
  },
  {
   "cell_type": "code",
   "execution_count": 5,
   "id": "56abf853-6636-4fca-a7d3-e84b54752826",
   "metadata": {},
   "outputs": [],
   "source": [
    "rings = ring.calculate(ring_type=RINGs.RingType.GUTTMAN, \n",
    "                       pair_atom_symbols=[['Si', 'O']])"
   ]
  },
  {
   "cell_type": "code",
   "execution_count": 6,
   "id": "5142e9bb-442b-4c51-9c55-0890f19a9958",
   "metadata": {},
   "outputs": [
    {
     "name": "stdout",
     "output_type": "stream",
     "text": [
      "Number of rings : 432\n"
     ]
    }
   ],
   "source": [
    "print(\"Number of rings : %i\" % len(rings))"
   ]
  },
  {
   "cell_type": "code",
   "execution_count": 9,
   "id": "170e0caa-bfc3-41b3-b117-9cbef425545a",
   "metadata": {},
   "outputs": [
    {
     "name": "stdout",
     "output_type": "stream",
     "text": [
      "[24, 32, 29, 41, 27, 180, 174, 183, 169, 613, 607, 616]\n"
     ]
    }
   ],
   "source": [
    "# 0番目のリングを構成している原子インデックスの表示\n",
    "print(rings[0])"
   ]
  },
  {
   "cell_type": "code",
   "execution_count": 10,
   "id": "9d0994b7-99d6-4840-9eec-5d6c1fb811ae",
   "metadata": {},
   "outputs": [
    {
     "name": "stdout",
     "output_type": "stream",
     "text": [
      "True\n"
     ]
    }
   ],
   "source": [
    "# RINGを構成しているときTrue, ChainのときFalse\n",
    "print(rings[0].close)"
   ]
  },
  {
   "cell_type": "code",
   "execution_count": 19,
   "id": "22d25340-b753-4ea4-873d-1291a5ce4f8e",
   "metadata": {},
   "outputs": [
    {
     "name": "stdout",
     "output_type": "stream",
     "text": [
      "roundness, roughness : 0.999996 0.188995\n"
     ]
    }
   ],
   "source": [
    "# roundnessとroughnessの計算\n",
    "print(\"roundness, roughness : %5f %5f\" % (rings[0].roundness, rings[0].roughness))"
   ]
  },
  {
   "cell_type": "markdown",
   "id": "d9acb779-7908-4525-ad07-acf0bdc68ea8",
   "metadata": {},
   "source": [
    "Chainが現れるときのサンプル"
   ]
  },
  {
   "cell_type": "code",
   "execution_count": 21,
   "id": "a2afb1d0-4a75-46e0-b331-8023cdbd6566",
   "metadata": {},
   "outputs": [],
   "source": [
    "path = \"../data/crystal/sio2_beta_cristobalite.cif\"\n",
    "f = File.open(path)\n",
    "atoms = f.getatoms()"
   ]
  },
  {
   "cell_type": "code",
   "execution_count": 22,
   "id": "bb2b1b64-5f0b-43f2-9c46-5d107ed2593a",
   "metadata": {},
   "outputs": [],
   "source": [
    "ring = RINGs(atoms)\n",
    "rings = ring.calculate(ring_type=RINGs.RingType.GUTTMAN, \n",
    "                       pair_atom_symbols=[['Si', 'O']])"
   ]
  },
  {
   "cell_type": "code",
   "execution_count": 23,
   "id": "8fc861db-4803-4b87-9137-632784dff381",
   "metadata": {},
   "outputs": [
    {
     "name": "stdout",
     "output_type": "stream",
     "text": [
      "False\n"
     ]
    }
   ],
   "source": [
    "# RINGを構成しているときTrue, ChainのときFalse\n",
    "print(rings[0].close)"
   ]
  },
  {
   "cell_type": "code",
   "execution_count": null,
   "id": "ee7d3baf-74b0-4138-bd7b-bde3b88ef961",
   "metadata": {},
   "outputs": [],
   "source": []
  }
 ],
 "metadata": {
  "kernelspec": {
   "display_name": "Python 3 (ipykernel)",
   "language": "python",
   "name": "python3"
  },
  "language_info": {
   "codemirror_mode": {
    "name": "ipython",
    "version": 3
   },
   "file_extension": ".py",
   "mimetype": "text/x-python",
   "name": "python",
   "nbconvert_exporter": "python",
   "pygments_lexer": "ipython3",
   "version": "3.10.9"
  }
 },
 "nbformat": 4,
 "nbformat_minor": 5
}
