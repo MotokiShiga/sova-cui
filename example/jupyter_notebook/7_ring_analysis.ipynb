{
 "cells": [
  {
   "cell_type": "code",
   "execution_count": null,
   "id": "24ef102e-e075-4b9d-ad74-e6eb761d4f6a",
   "metadata": {},
   "outputs": [],
   "source": [
    "from sovapy.core.file import File\n",
    "from sovapy.computation.rings import RINGs\n",
    "import numpy as np\n",
    "import matplotlib.pyplot as plt\n",
    "\n",
    "import sovapy\n",
    "print('sovapy ver: ', sovapy.__version__)"
   ]
  },
  {
   "cell_type": "markdown",
   "id": "59351512-9412-4a24-bf2b-5f37eadb449e",
   "metadata": {},
   "source": [
    "### Load structural information from a cif file"
   ]
  },
  {
   "cell_type": "code",
   "execution_count": null,
   "id": "aaae5b05-e96b-4959-9909-0431d07c72de",
   "metadata": {},
   "outputs": [],
   "source": [
    "structure_file = \"../data/crystal/sio2_beta_cristobalite333.cif\"\n",
    "f = File.open(structure_file)"
   ]
  },
  {
   "cell_type": "markdown",
   "id": "3a078147-1e83-48e8-b3ae-efcc0f165863",
   "metadata": {},
   "source": [
    "### Get atomic and cell (simulation box) data"
   ]
  },
  {
   "cell_type": "code",
   "execution_count": null,
   "id": "17b3930f-e605-416f-9b5d-e6398a4335bb",
   "metadata": {},
   "outputs": [],
   "source": [
    "atoms = f.getatoms()"
   ]
  },
  {
   "cell_type": "markdown",
   "id": "805ef9c9-2509-4d46-acc3-081a500b95cc",
   "metadata": {},
   "source": [
    "### Initialize the class RINGs with structure information"
   ]
  },
  {
   "cell_type": "code",
   "execution_count": null,
   "id": "6f44b553-73c1-4a56-a071-3328b77ba414",
   "metadata": {},
   "outputs": [],
   "source": [
    "ring = RINGs(atoms)"
   ]
  },
  {
   "cell_type": "markdown",
   "id": "edbce618-a622-4284-b036-2725ab63daea",
   "metadata": {},
   "source": [
    "### Enumerate Guttman rings in the structure  \n",
    "(Ring types: GUTTMAN, KING, PRIMITIVE)\n",
    "Option pair_atom_symbols is not necessary from version 0.5.4.1 for using all chemical bonds.\n",
    "\n",
    "Parallel computation is available using num_parallel option as follows:  \n",
    "\n",
    "```python\n",
    "rings = ring.calculate(ring_type=RINGs.RingType.GUTTMAN, num_parallel=8)  \n",
    "```                       \n",
    "To use the maximum numbers of CPU cores, set -1."
   ]
  },
  {
   "cell_type": "code",
   "execution_count": null,
   "id": "b08b4068-64d7-48bd-be9c-c14b4a224749",
   "metadata": {},
   "outputs": [],
   "source": [
    "rings = ring.calculate(ring_type=RINGs.RingType.GUTTMAN)\n",
    "\n",
    "# rings = ring.calculate(ring_type=RINGs.RingType.GUTTMAN, \n",
    "#                        pair_atom_symbols=[['Si', 'O']])"
   ]
  },
  {
   "cell_type": "markdown",
   "id": "b5136a91-3301-4d09-a600-8505744e12f6",
   "metadata": {},
   "source": [
    "### Display information of enumerated rings"
   ]
  },
  {
   "cell_type": "code",
   "execution_count": null,
   "id": "4e509c79-45b4-4df5-962b-a84d31bd0d91",
   "metadata": {},
   "outputs": [],
   "source": [
    "print(\"The number of rings in the structure : %i\" % len(rings))\n",
    "\n",
    "n = 2 # Ring ID to output computated result\n",
    "print(\"\\nThe number of atoms in the n-th ring:\")\n",
    "print(rings[n].number)\n",
    "\n",
    "print(\"\\nRoundness and roughness in the n-th ring:\")\n",
    "print([rings[n].roundness, rings[2].roughness])\n",
    "\n",
    "print(\"\\nDoes the ring cross the boundary of the cell?\")\n",
    "print(rings[n].over_boundary)\n",
    "\n",
    "print(\"\\nDoes the ring is closed in the real space?\")\n",
    "print(rings[n].close)"
   ]
  },
  {
   "cell_type": "markdown",
   "id": "89ea1b8a-244f-4f75-a396-6701e7494e8d",
   "metadata": {},
   "source": [
    "#### Notice:  \n",
    "Rings with False are closed over the PBD but NOT closed in the real space.\n",
    "If there are many rings whose outputs are False, the cell size is too small. \n",
    "For cif data, the supercell structure can be generated using ase package\n",
    "using the following code:  \n",
    "\n",
    "```python\n",
    "from ase.io import read, write  \n",
    "\n",
    "struct = read(structure_file)\n",
    "struct_new = struct*(2,2,2)  # generate 2x2x2 supercell\n",
    "write(\"supercell_structure.cif\",struct_new)\n",
    "```"
   ]
  },
  {
   "cell_type": "markdown",
   "id": "cd2e4564-d0d7-46f4-9b67-b334ca8679eb",
   "metadata": {},
   "source": [
    "### Statistical analysis  \n",
    "extract size, roundness, and roughness of each ring"
   ]
  },
  {
   "cell_type": "code",
   "execution_count": null,
   "id": "a9790693-7e36-48b2-ad97-b311ff9201ba",
   "metadata": {},
   "outputs": [],
   "source": [
    "r_size, r_roundness, r_roughness = list(), list(), list()\n",
    "for r in rings:\n",
    "    r_size.append(r.number) # the number of atoms in a ring\n",
    "    r_roundness.append(r.roundness)\n",
    "    r_roughness.append(r.roughness)\n",
    "    \n",
    "r_size = np.array(r_size)\n",
    "r_roundness = np.array(r_roundness)\n",
    "r_roughness = np.array(r_roughness)"
   ]
  },
  {
   "cell_type": "markdown",
   "id": "f0a21f09-6072-4a2f-9e3b-8b1440238b8e",
   "metadata": {},
   "source": [
    "### Ring size distribution"
   ]
  },
  {
   "cell_type": "code",
   "execution_count": null,
   "id": "32ce4200-a728-4a34-9950-d299a104cde3",
   "metadata": {},
   "outputs": [],
   "source": [
    "# Maximum ring size\n",
    "s_max = r_size.max()\n",
    "\n",
    "# Calculate the histogram of ring size\n",
    "hist_size = np.zeros(s_max +1, dtype='int')\n",
    "for s in range(s_max+1):\n",
    "    hist_size[s] = np.sum(r_size==s)\n",
    "\n",
    "s_num = np.arange(s_max+1)\n",
    "plt.figure(figsize=(6,3))\n",
    "plt.bar(s_num, hist_size)\n",
    "plt.xlabel('The number of atoms')\n",
    "plt.ylabel('Counts')\n",
    "plt.xticks(s_num)\n",
    "plt.show()"
   ]
  },
  {
   "cell_type": "markdown",
   "id": "659d17fa-a5fc-4d8d-84cd-697a943a19ed",
   "metadata": {},
   "source": [
    "### Roundness and roughness distributions"
   ]
  },
  {
   "cell_type": "code",
   "execution_count": null,
   "id": "8185ce76-c3b2-4b9f-bd78-7359b7d27b38",
   "metadata": {},
   "outputs": [],
   "source": [
    "plt.figure(figsize=(10,3))\n",
    "plt.subplot(1,2,1)\n",
    "plt.hist(r_roundness, bins=np.linspace(0,1,20))\n",
    "plt.xlabel('Roundness')\n",
    "plt.ylabel('Counts')\n",
    "\n",
    "plt.subplot(1,2,2)\n",
    "plt.hist(r_roughness, bins=np.linspace(0,1,20))\n",
    "plt.xlabel('Roughness')\n",
    "plt.ylabel('Counts')\n",
    "plt.show()"
   ]
  },
  {
   "cell_type": "code",
   "execution_count": null,
   "id": "349a7693-bb7d-4f89-9ec1-08bfaf4baf13",
   "metadata": {},
   "outputs": [],
   "source": []
  }
 ],
 "metadata": {
  "kernelspec": {
   "display_name": "Python 3 (ipykernel)",
   "language": "python",
   "name": "python3"
  },
  "language_info": {
   "codemirror_mode": {
    "name": "ipython",
    "version": 3
   },
   "file_extension": ".py",
   "mimetype": "text/x-python",
   "name": "python",
   "nbconvert_exporter": "python",
   "pygments_lexer": "ipython3",
   "version": "3.10.14+"
  }
 },
 "nbformat": 4,
 "nbformat_minor": 5
}
