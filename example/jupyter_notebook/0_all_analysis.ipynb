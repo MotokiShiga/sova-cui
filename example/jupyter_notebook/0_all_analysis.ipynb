{
 "cells": [
  {
   "cell_type": "code",
   "execution_count": null,
   "id": "cc69e23b-dff4-477a-8473-a31615b6fd8d",
   "metadata": {},
   "outputs": [],
   "source": [
    "from sovapy.core.file import File\n",
    "from sovapy.core.analysis import (PDFAnalysis, BondAngleAnalysis, CoordinationNumberAnalysis,\n",
    "                                  TetrahedralOrderAnalysis, RingAnalysis, CavityAnalysis)\n",
    "\n",
    "import sovapy\n",
    "print('sovapy ver: ', sovapy.__version__)"
   ]
  },
  {
   "cell_type": "markdown",
   "id": "0bf160a8-6f2d-4a8d-b34e-9bbd917abc11",
   "metadata": {},
   "source": [
    "### Load structural information from a xyz file\n",
    "The second line (CUB 24.713) in the xyz file indicates the shape of cell and its length.  \n",
    "(CUB means cubics.)"
   ]
  },
  {
   "cell_type": "code",
   "execution_count": null,
   "id": "9f642745-fee4-48d0-bc3a-9010a2f8e1b5",
   "metadata": {},
   "outputs": [],
   "source": [
    "structure_file = \"../data/amorphous_md/a_SiO2_speed1e11K.xyz\"\n",
    "f = File.open(structure_file)"
   ]
  },
  {
   "cell_type": "markdown",
   "id": "7f32bd6a-5f4f-46b8-88e3-2e8d19e47dd1",
   "metadata": {},
   "source": [
    "### Get atomic and cell (simulation box) data"
   ]
  },
  {
   "cell_type": "code",
   "execution_count": null,
   "id": "4ae0c1f3-094e-402b-8263-eb75e8da4371",
   "metadata": {},
   "outputs": [],
   "source": [
    "atoms = f.getatoms()"
   ]
  },
  {
   "cell_type": "code",
   "execution_count": null,
   "id": "2c1af71d-019e-4104-a744-094c90c25ff2",
   "metadata": {},
   "outputs": [],
   "source": [
    "print(\"Atom symbols:\", atoms.symbols)"
   ]
  },
  {
   "cell_type": "markdown",
   "id": "a6385cbe-89d8-4761-9944-96d57c0d8539",
   "metadata": {},
   "source": [
    "### Set maximum bond lengths for atomic element pairs"
   ]
  },
  {
   "cell_type": "code",
   "execution_count": null,
   "id": "66019954-69a8-4155-8954-2ec61af68735",
   "metadata": {},
   "outputs": [],
   "source": [
    "# Set -1 to pairs for which you don't want to build bonds.\n",
    "print('Set bond length:')\n",
    "bond_lengths = {('Si', 'O') : 2.0, ('Si', 'Si') : -1, ('O', 'O') : -1}\n",
    "atoms.set_bond_lengths(bond_lengths)\n",
    "\n",
    "atoms.bond_summary()"
   ]
  },
  {
   "cell_type": "markdown",
   "id": "d51c39e0-c8f3-4a01-a25a-529077ec2158",
   "metadata": {},
   "source": [
    "### PDF (Pair Distribution Function) Analysis:\n",
    "\n",
    "Results can be saved to a hdf5 file, whose name is fixed to structure file name + '.hdf5'"
   ]
  },
  {
   "cell_type": "code",
   "execution_count": null,
   "id": "d5c0f8d7-615d-4ce5-ad52-5fadc3bbc9ca",
   "metadata": {},
   "outputs": [],
   "source": [
    "pdf = PDFAnalysis(atoms, dr=0.05, dq=0.05, qmin=0.3, qmax=25.0)\n",
    "pdf.run()\n",
    "pdf.plot()\n",
    "pdf.save_atoms_to_hdf5(mode=\"w\") # the first analysis should save Atoms object using the method\n",
    "pdf.save_to_hdf5()"
   ]
  },
  {
   "cell_type": "markdown",
   "id": "34177b45-a26a-4800-9bac-2b09507a1c68",
   "metadata": {},
   "source": [
    "### Coordination Number Analysis"
   ]
  },
  {
   "cell_type": "code",
   "execution_count": null,
   "id": "7db7308e-65ca-43fd-9b9a-87c32561257d",
   "metadata": {},
   "outputs": [],
   "source": [
    "coord_num = CoordinationNumberAnalysis(atoms)\n",
    "coord_num.run()\n",
    "coord_num.plot()\n",
    "coord_num.save_to_hdf5()"
   ]
  },
  {
   "cell_type": "markdown",
   "id": "74f1354d-3ac5-430d-a22a-cf8c12ab770c",
   "metadata": {},
   "source": [
    "### Bond angle analysis"
   ]
  },
  {
   "cell_type": "code",
   "execution_count": null,
   "id": "e5e413f7-bc28-428b-baae-28836e6b054a",
   "metadata": {},
   "outputs": [],
   "source": [
    "bond_angle = BondAngleAnalysis(atoms, bins=50)\n",
    "bond_angle.run()\n",
    "bond_angle.plot()\n",
    "bond_angle.save_to_hdf5()"
   ]
  },
  {
   "cell_type": "markdown",
   "id": "016e49d4-31bd-4b41-b84e-2bf9612794de",
   "metadata": {},
   "source": [
    "### Tetrahedral order analysis"
   ]
  },
  {
   "cell_type": "code",
   "execution_count": null,
   "id": "582f4c5b-eafa-4218-848e-dfef0fbf4e4a",
   "metadata": {},
   "outputs": [],
   "source": [
    "list_cc_dist = [['Si','O',2.0],['Si','Si',3.5]]\n",
    "tetra = TetrahedralOrderAnalysis(atoms, bins=100, list_cc_dist=list_cc_dist)\n",
    "tetra.run()\n",
    "tetra.plot()\n",
    "tetra.save_to_hdf5()"
   ]
  },
  {
   "cell_type": "markdown",
   "id": "bc88fb42-1d8c-4438-88c1-364e375a135b",
   "metadata": {},
   "source": [
    "### Ring analysis"
   ]
  },
  {
   "cell_type": "code",
   "execution_count": null,
   "id": "a8c3b7cf-b4c5-4629-8c13-d6cff5b519d8",
   "metadata": {},
   "outputs": [],
   "source": [
    "ring = RingAnalysis(atoms, guttman=True, king=True, primitive=False, cutoff_primitive=24)\n",
    "ring.run()\n",
    "ring.plot()\n",
    "ring.save_to_hdf5()"
   ]
  },
  {
   "cell_type": "markdown",
   "id": "ba71f0e4-359a-451e-b85b-866bd07ddef4",
   "metadata": {},
   "source": [
    "### Cavity analysis"
   ]
  },
  {
   "cell_type": "code",
   "execution_count": null,
   "id": "3837f138-dbdf-474b-92ca-0f0fcbfda699",
   "metadata": {},
   "outputs": [],
   "source": [
    "# cutoff_radii = {'Si': 2.8, 'O': 2.9} # radius setting for each atoms\n",
    "cutoff_radii = 2.8 # same radii for all atoms\n",
    "cavity = CavityAnalysis(atoms, resolution=64, cutoff_radii=cutoff_radii)\n",
    "cavity.run()\n",
    "cavity.plot()\n",
    "cavity.save_to_hdf5()"
   ]
  },
  {
   "cell_type": "code",
   "execution_count": null,
   "id": "9a11b860-e73e-4322-a0bd-262ad08c3a2e",
   "metadata": {},
   "outputs": [],
   "source": []
  }
 ],
 "metadata": {
  "kernelspec": {
   "display_name": "Python 3 (ipykernel)",
   "language": "python",
   "name": "python3"
  },
  "language_info": {
   "codemirror_mode": {
    "name": "ipython",
    "version": 3
   },
   "file_extension": ".py",
   "mimetype": "text/x-python",
   "name": "python",
   "nbconvert_exporter": "python",
   "pygments_lexer": "ipython3",
   "version": "3.10.14+"
  }
 },
 "nbformat": 4,
 "nbformat_minor": 5
}
