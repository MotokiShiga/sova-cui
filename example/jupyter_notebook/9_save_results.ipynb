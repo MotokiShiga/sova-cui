{
 "cells": [
  {
   "cell_type": "code",
   "execution_count": null,
   "id": "a60f8bf3-6976-4b77-96bd-81312795ce27",
   "metadata": {},
   "outputs": [],
   "source": [
    "from sovapy.core.file import File\n",
    "from sovapy.computation.rings import RINGs\n",
    "from sovapy.computation.cavity import Cavity\n",
    "from sovapy.core.data import ResultsFile"
   ]
  },
  {
   "cell_type": "markdown",
   "id": "81f8d37d-6777-4314-a782-6577cc7bfb70",
   "metadata": {},
   "source": [
    "### Load structural information from a xyz file"
   ]
  },
  {
   "cell_type": "code",
   "execution_count": null,
   "id": "a667ef8b-0892-4ec5-b73f-e6dd138e69d4",
   "metadata": {},
   "outputs": [],
   "source": [
    "structure_file = \"../data/amorphous_md/a_SiO2_speed1e11K_rand.xyz\"\n",
    "f = File.open(structure_file)"
   ]
  },
  {
   "cell_type": "markdown",
   "id": "1012cce5-91bb-4dde-87b5-86e5882bf474",
   "metadata": {},
   "source": [
    "### Get atomic and cell (simulation box) data"
   ]
  },
  {
   "cell_type": "code",
   "execution_count": null,
   "id": "a2123094-fa01-4fbb-8dc7-a851b23cc110",
   "metadata": {},
   "outputs": [],
   "source": [
    "atoms = f.getatoms()"
   ]
  },
  {
   "cell_type": "code",
   "execution_count": null,
   "id": "f7ef05d0-c2fa-478b-b760-1143e1b103db",
   "metadata": {},
   "outputs": [],
   "source": [
    "print(\"Atom symbols:\", atoms.symbols)"
   ]
  },
  {
   "cell_type": "markdown",
   "id": "a94df876-bf7a-44fc-a51b-2b990fedeb90",
   "metadata": {},
   "source": [
    "### Calculate RINGs"
   ]
  },
  {
   "cell_type": "code",
   "execution_count": null,
   "id": "9cfec13d-a20c-498c-b5b5-5e1615ef0f90",
   "metadata": {},
   "outputs": [],
   "source": [
    "ring = RINGs(atoms)\n",
    "rings = ring.calculate(ring_type=RINGs.RingType.GUTTMAN, \n",
    "                       pair_atom_symbols=[['Si', 'O']])"
   ]
  },
  {
   "cell_type": "code",
   "execution_count": null,
   "id": "52f87357-9550-4273-8d1b-58c6c89738b3",
   "metadata": {},
   "outputs": [],
   "source": [
    "num_rings1 = len(rings)\n",
    "s1 = rings[0].number\n",
    "\n",
    "print(\"The number of rings: \", num_rings1)\n",
    "print(\"The size of the 1st ring:\", s1)"
   ]
  },
  {
   "cell_type": "markdown",
   "id": "7bf10cd9-f356-406a-9248-d1518f7039fd",
   "metadata": {},
   "source": [
    "### Calculate Cavity"
   ]
  },
  {
   "cell_type": "code",
   "execution_count": null,
   "id": "662c2e32-3465-42f8-afd5-6ee8300a70b9",
   "metadata": {},
   "outputs": [],
   "source": [
    "cavity = Cavity(atoms)\n",
    "cavity.calculate()"
   ]
  },
  {
   "cell_type": "code",
   "execution_count": null,
   "id": "cb513aba-b83e-4ba2-ae6c-f01badffd43d",
   "metadata": {},
   "outputs": [],
   "source": [
    "num_dc1 = cavity.domains.number\n",
    "v1 = cavity.domains.volumes[0]\n",
    "\n",
    "print(\"The number of domain cavities: \", num_dc1)\n",
    "print(\"The volume of the 1st domain cavity:\", v1)"
   ]
  },
  {
   "cell_type": "markdown",
   "id": "77c2c9a3-5ffa-4a52-9926-8913cdef3e8f",
   "metadata": {},
   "source": [
    "### Save the structure and computed results "
   ]
  },
  {
   "cell_type": "code",
   "execution_count": null,
   "id": "b3878274-ef0a-4736-beec-78c89dc4bf28",
   "metadata": {},
   "outputs": [],
   "source": [
    "# Save file name\n",
    "path = \"./a_SiO2_speed1e11K_rand.hdf5\"\n",
    "\n",
    "with ResultsFile(path, 'w', atoms) as f:\n",
    "    f.rings = rings\n",
    "    f.domains = cavity.domains\n",
    "    f.flush()"
   ]
  },
  {
   "cell_type": "markdown",
   "id": "66b3362c-0167-4943-b9cc-3e5ace0fd3ea",
   "metadata": {},
   "source": [
    "### Read the file to load calculated results"
   ]
  },
  {
   "cell_type": "code",
   "execution_count": null,
   "id": "34116fe7-6670-4048-9c0b-7b2ae66aab19",
   "metadata": {},
   "outputs": [],
   "source": [
    "with ResultsFile(path, 'r') as fr:\n",
    "    result_atoms = fr.atoms\n",
    "    result_rings = fr.rings\n",
    "    result_cavity = fr.domains"
   ]
  },
  {
   "cell_type": "code",
   "execution_count": null,
   "id": "3bbf30a8-22a1-42dd-9b87-ecd829f72aec",
   "metadata": {},
   "outputs": [],
   "source": [
    "num_atoms = len(result_atoms.elements)\n",
    "\n",
    "print(type(result_atoms))\n",
    "print(\"The number of atoms:\", num_atoms)"
   ]
  },
  {
   "cell_type": "code",
   "execution_count": null,
   "id": "343c4e75-1ad3-4df8-8cf4-cbb91105e8ff",
   "metadata": {},
   "outputs": [],
   "source": [
    "num_rings2 = len(result_rings)\n",
    "s2 = result_rings[0].number\n",
    "\n",
    "print(type(result_rings))\n",
    "print(\"The number of rings: \", num_rings2)\n",
    "print(\"The size of the 1st ring:\", s2)"
   ]
  },
  {
   "cell_type": "code",
   "execution_count": null,
   "id": "7f8660a7-712d-4440-89cd-341fa045edeb",
   "metadata": {},
   "outputs": [],
   "source": [
    "num_dc2 = result_cavity.number\n",
    "v2 = result_cavity.volumes[0]\n",
    "\n",
    "print(type(result_cavity))\n",
    "print(\"The number of domain cavities: \", num_dc2)\n",
    "print(\"The volume of the 1st domain cavity:\", v2)"
   ]
  },
  {
   "cell_type": "code",
   "execution_count": null,
   "id": "a0e32e9d-9c95-4be3-aaa1-027dbcf389d4",
   "metadata": {},
   "outputs": [],
   "source": []
  }
 ],
 "metadata": {
  "kernelspec": {
   "display_name": "Python 3 (ipykernel)",
   "language": "python",
   "name": "python3"
  },
  "language_info": {
   "codemirror_mode": {
    "name": "ipython",
    "version": 3
   },
   "file_extension": ".py",
   "mimetype": "text/x-python",
   "name": "python",
   "nbconvert_exporter": "python",
   "pygments_lexer": "ipython3",
   "version": "3.10.14+"
  }
 },
 "nbformat": 4,
 "nbformat_minor": 5
}
