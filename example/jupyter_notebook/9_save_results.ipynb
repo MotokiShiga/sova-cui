{
 "cells": [
  {
   "cell_type": "code",
   "execution_count": null,
   "id": "a60f8bf3-6976-4b77-96bd-81312795ce27",
   "metadata": {},
   "outputs": [],
   "source": [
    "from sovapy.core.file import File\n",
    "from sovapy.computation.rings import RINGs\n",
    "from sovapy.computation.cavity import Cavity\n",
    "from sovapy.core.data import ResultsFile\n",
    "\n",
    "import sovapy\n",
    "print('sovapy ver: ', sovapy.__version__)"
   ]
  },
  {
   "cell_type": "markdown",
   "id": "81f8d37d-6777-4314-a782-6577cc7bfb70",
   "metadata": {},
   "source": [
    "### Load structural information from a xyz file"
   ]
  },
  {
   "cell_type": "code",
   "execution_count": null,
   "id": "a667ef8b-0892-4ec5-b73f-e6dd138e69d4",
   "metadata": {},
   "outputs": [],
   "source": [
    "structure_file = \"../data/amorphous_md/a_SiO2_speed1e11K.xyz\"\n",
    "f = File.open(structure_file)"
   ]
  },
  {
   "cell_type": "markdown",
   "id": "1012cce5-91bb-4dde-87b5-86e5882bf474",
   "metadata": {},
   "source": [
    "### Get atomic and cell (simulation box) data"
   ]
  },
  {
   "cell_type": "code",
   "execution_count": null,
   "id": "a2123094-fa01-4fbb-8dc7-a851b23cc110",
   "metadata": {},
   "outputs": [],
   "source": [
    "atoms = f.get_atoms()"
   ]
  },
  {
   "cell_type": "code",
   "execution_count": null,
   "id": "f7ef05d0-c2fa-478b-b760-1143e1b103db",
   "metadata": {},
   "outputs": [],
   "source": [
    "print(\"The number of atoms:\", atoms.num_total)\n",
    "print(\"Atom symbols:\", atoms.symbols)"
   ]
  },
  {
   "cell_type": "markdown",
   "id": "188b27c1-0f08-4d2d-86a7-3628b59c832b",
   "metadata": {},
   "source": [
    "### Build chemical bonds"
   ]
  },
  {
   "cell_type": "code",
   "execution_count": null,
   "id": "fa256ddf-126c-4631-b3a4-b024bd518651",
   "metadata": {},
   "outputs": [],
   "source": [
    "bond_lengths = {('Si', 'O') : 2.0, ('Si', 'Si') : -1, ('O', 'O') : -1}\n",
    "atoms.set_bond_lengths(bond_lengths)\n",
    "\n",
    "atoms.bond_summary()\n",
    "print(\"\")"
   ]
  },
  {
   "cell_type": "markdown",
   "id": "a94df876-bf7a-44fc-a51b-2b990fedeb90",
   "metadata": {},
   "source": [
    "### Calculate RINGs"
   ]
  },
  {
   "cell_type": "code",
   "execution_count": null,
   "id": "9cfec13d-a20c-498c-b5b5-5e1615ef0f90",
   "metadata": {},
   "outputs": [],
   "source": [
    "ring = RINGs(atoms)\n",
    "rings_guttman = ring.calculate(ring_type=RINGs.RingType.GUTTMAN)\n",
    "rings_king = ring.calculate(ring_type=RINGs.RingType.KING)\n",
    "# rings_primitive = ring.calculate(ring_type=RINGs.RingType.PRIMITIVE)"
   ]
  },
  {
   "cell_type": "code",
   "execution_count": null,
   "id": "52f87357-9550-4273-8d1b-58c6c89738b3",
   "metadata": {},
   "outputs": [],
   "source": [
    "num_rings1 = len(rings_guttman)\n",
    "s1 = rings_guttman[0].number\n",
    "\n",
    "print(\"The number of Guttman rings: \", num_rings1)\n",
    "print(\"The size of the 1st Guttman ring:\", s1)"
   ]
  },
  {
   "cell_type": "markdown",
   "id": "7bf10cd9-f356-406a-9248-d1518f7039fd",
   "metadata": {},
   "source": [
    "### Calculate Cavity"
   ]
  },
  {
   "cell_type": "code",
   "execution_count": null,
   "id": "662c2e32-3465-42f8-afd5-6ee8300a70b9",
   "metadata": {},
   "outputs": [],
   "source": [
    "cavity = Cavity(atoms)\n",
    "cavity.calculate(resolution=64, cutoff_radii={'Si': 2.0, 'O': 3.0})"
   ]
  },
  {
   "cell_type": "code",
   "execution_count": null,
   "id": "cb513aba-b83e-4ba2-ae6c-f01badffd43d",
   "metadata": {},
   "outputs": [],
   "source": [
    "num_dc1 = cavity.domains.number\n",
    "v1 = cavity.domains.volumes[0]\n",
    "\n",
    "print(\"The number of domain cavities: \", num_dc1)\n",
    "print(\"The volume of the 1st domain cavity:\", v1)"
   ]
  },
  {
   "cell_type": "markdown",
   "id": "77c2c9a3-5ffa-4a52-9926-8913cdef3e8f",
   "metadata": {},
   "source": [
    "### Save the structure and computed results "
   ]
  },
  {
   "cell_type": "code",
   "execution_count": null,
   "id": "b3878274-ef0a-4736-beec-78c89dc4bf28",
   "metadata": {},
   "outputs": [],
   "source": [
    "# Save file name\n",
    "path = \"./a_SiO2_speed1e11K_rand.hdf5\"\n",
    "\n",
    "with ResultsFile(path, 'w', atoms=atoms, cavity=cavity) as f:\n",
    "    f.rings_guttman = rings_guttman\n",
    "    f.rings_king = rings_king\n",
    "    # f.rings_primitive = rings_primitive\n",
    "    f.flush()"
   ]
  },
  {
   "cell_type": "markdown",
   "id": "66b3362c-0167-4943-b9cc-3e5ace0fd3ea",
   "metadata": {},
   "source": [
    "### Read the file to load calculated results"
   ]
  },
  {
   "cell_type": "code",
   "execution_count": null,
   "id": "34116fe7-6670-4048-9c0b-7b2ae66aab19",
   "metadata": {},
   "outputs": [],
   "source": [
    "with ResultsFile(path, 'r') as fr:\n",
    "    name                   = fr.name\n",
    "    version                = fr.version\n",
    "    result_atoms           = fr.atoms\n",
    "    result_rings_guttman   = fr.rings_guttman\n",
    "    result_rings_king      = fr.rings_king\n",
    "    # result_rings_primitive = fr.rings_primitive\n",
    "    result_cavity          = fr.cavity"
   ]
  },
  {
   "cell_type": "code",
   "execution_count": null,
   "id": "563a8eca-3073-4dbb-90e8-b0ead343f8b4",
   "metadata": {},
   "outputs": [],
   "source": [
    "print('Data information:')\n",
    "print('Package: ', name)\n",
    "print('Version: ', version)"
   ]
  },
  {
   "cell_type": "code",
   "execution_count": null,
   "id": "3bbf30a8-22a1-42dd-9b87-ecd829f72aec",
   "metadata": {},
   "outputs": [],
   "source": [
    "print(type(result_atoms))\n",
    "print(\"The number of atoms:\", result_atoms.num_total)\n",
    "print(\"Atom symbols:\", result_atoms.symbol_set)\n",
    "print(\"\")\n",
    "result_atoms.bond_summary()"
   ]
  },
  {
   "cell_type": "code",
   "execution_count": null,
   "id": "343c4e75-1ad3-4df8-8cf4-cbb91105e8ff",
   "metadata": {},
   "outputs": [],
   "source": [
    "num_rings2 = len(result_rings_guttman)\n",
    "s2 = result_rings_guttman[0].number\n",
    "\n",
    "print(type(result_rings_guttman))\n",
    "print(\"The number of Guttman rings: \", num_rings2)\n",
    "print(\"The size of the 1st Guttman ring:\", s2)"
   ]
  },
  {
   "cell_type": "code",
   "execution_count": null,
   "id": "7f8660a7-712d-4440-89cd-341fa045edeb",
   "metadata": {},
   "outputs": [],
   "source": [
    "num_dc2 = result_cavity.domains.number\n",
    "v2 = result_cavity.domains.volumes[0]\n",
    "\n",
    "print(type(result_cavity))\n",
    "print(\"The number of domain cavities: \", num_dc2)\n",
    "print(\"The volume of the 1st domain cavity:\", v2)\n",
    "print(\"Calculation settings: resolution={:}, cutoff_radii={:}\".format(result_cavity.resolution,result_cavity.cutoff_radii))"
   ]
  },
  {
   "cell_type": "code",
   "execution_count": null,
   "id": "3cc0f420-d8c7-4c11-981d-168bbd894922",
   "metadata": {},
   "outputs": [],
   "source": []
  }
 ],
 "metadata": {
  "kernelspec": {
   "display_name": "Python 3 (ipykernel)",
   "language": "python",
   "name": "python3"
  },
  "language_info": {
   "codemirror_mode": {
    "name": "ipython",
    "version": 3
   },
   "file_extension": ".py",
   "mimetype": "text/x-python",
   "name": "python",
   "nbconvert_exporter": "python",
   "pygments_lexer": "ipython3",
   "version": "3.12.9"
  }
 },
 "nbformat": 4,
 "nbformat_minor": 5
}
