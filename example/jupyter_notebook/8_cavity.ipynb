{
 "cells": [
  {
   "cell_type": "code",
   "execution_count": null,
   "id": "f4eb716f-2b11-4adf-8e28-018a3ee07ee2",
   "metadata": {},
   "outputs": [],
   "source": [
    "import os\n",
    "import matplotlib.pyplot as plt\n",
    "from sovapy.core.file import File\n",
    "from sovapy.computation.cavity import Cavity"
   ]
  },
  {
   "cell_type": "markdown",
   "id": "4dccaf6a-48cf-482c-8693-9867ed92cb5d",
   "metadata": {},
   "source": [
    "### Load structural information from a xyz file"
   ]
  },
  {
   "cell_type": "code",
   "execution_count": null,
   "id": "0fac0e44-d428-4209-9045-032e3cf08178",
   "metadata": {},
   "outputs": [],
   "source": [
    "structure_file = \"../data/amorphous_md/a_SiO2_speed1e11K_rand.xyz\"\n",
    "f = File.open(structure_file)\n",
    "\n",
    "# Get atomic and cell (simulation box) data\n",
    "atoms = f.getatoms()"
   ]
  },
  {
   "cell_type": "markdown",
   "id": "84f94c2e-e071-45c7-b284-a194c776d2e7",
   "metadata": {},
   "source": [
    "### Cavity analysis"
   ]
  },
  {
   "cell_type": "code",
   "execution_count": null,
   "id": "adb19232-5b35-446e-bbaf-5da4232cb29c",
   "metadata": {},
   "outputs": [],
   "source": [
    "# Initialize Cavity class using atoms\n",
    "cavity = Cavity(atoms)"
   ]
  },
  {
   "cell_type": "code",
   "execution_count": null,
   "id": "51e60829-7897-4b5b-a2cb-98d90ab3ee16",
   "metadata": {},
   "outputs": [],
   "source": [
    "# Calculate cavities\n",
    "# # use default radii\n",
    "# cavity.calculate(resolution=64)\n",
    "\n",
    "# Set same radii for all elements\n",
    "# if gyration_tensor_parameters = True, cavity shape parameters are calculated.\n",
    "cavity.calculate(resolution=64, cutoff_radii=2.8, gyration_tensor_parameters=True)\n",
    "\n",
    "# Set custom radii\n",
    "# cavity.calculate(resolution=64, cutoff_radii={'Si': 2.0, 'O': 3.0}, gyration_tensor_parameters=True)"
   ]
  },
  {
   "cell_type": "markdown",
   "id": "389143d0-cd8b-4e88-aced-7a7bfc79fe8c",
   "metadata": {},
   "source": [
    "### Caluculation results\n",
    "\n",
    "Three types of cavities: domain, center-based cavity, and surface-based cavity, are calculated. Each of calculated results is obtained by \"cavity.domain\", \"cavity.center_cavities\", or \"cavity.surface_cavities\"."
   ]
  },
  {
   "cell_type": "code",
   "execution_count": null,
   "id": "20e20722-34d3-4b83-a0b7-2419e329a697",
   "metadata": {},
   "outputs": [],
   "source": [
    "print(\"The number of domain:\")\n",
    "print(cavity.domains.number)\n",
    "\n",
    "print(\"\\nThe number of center-based cavities:\")\n",
    "print(cavity.center_cavities.number)\n",
    "\n",
    "print(\"\\nThe number of surface-based cavities:\")\n",
    "print(cavity.surface_cavities.number)"
   ]
  },
  {
   "cell_type": "code",
   "execution_count": null,
   "id": "52768bd1-74b6-4ce5-83f8-6d5a0726754e",
   "metadata": {},
   "outputs": [],
   "source": [
    "print(\"Calculate domains\")\n",
    "print('Found {:d} domains'.format(len(cavity.domains.volumes)))\n",
    "index =  0\n",
    "print('Domain volume of index {} : {}'.format(index, cavity.domains.volumes[index]))\n",
    "print('Found {:d} critical domains in file {}. Domain indices: {}'.format(\n",
    "    len(cavity.domains.critical_domains), os.path.basename(structure_file), \n",
    "    cavity.domains.critical_domains))"
   ]
  },
  {
   "cell_type": "markdown",
   "id": "5a645e7a-fa9c-4869-ab0d-f81b5e683055",
   "metadata": {},
   "source": [
    "### Histogram of cavity properties\n",
    "\n",
    "For the definitions of cavity properties, refer to the \"pyMolDyn\" paper:  \n",
    "I. Heimbach, F. Rhiem, F. Beule, D. Knodt, J. Heinen, and R.O. Jones.,  \n",
    "pyMolDyn: Identification, structure, and properties of cavities/vacancies in condensed matter and molecules  \n",
    "J. Comput. Chem., 38, 389–394 (2017).   \n",
    "https://onlinelibrary.wiley.com/doi/full/10.1002/jcc.24697"
   ]
  },
  {
   "cell_type": "code",
   "execution_count": null,
   "id": "0e4c7546-cd19-42ee-84ab-88425b885e1f",
   "metadata": {},
   "outputs": [],
   "source": [
    "attrs = ['volumes', 'surface_areas', 'squared_gyration_radii', \n",
    "         'asphericities', 'acylindricities', 'anisotropies']\n",
    "\n",
    "plt.figure(figsize=(12,5))\n",
    "for cnt, attr in enumerate(attrs):\n",
    "    plt.subplot(2,3,cnt+1)\n",
    "    vals = getattr(cavity.domains, attr)\n",
    "    # vals = getattr(cavity.center_cavities, attr)\n",
    "    # vals = getattr(cavity.surface_cavities, attr)\n",
    "    plt.hist(vals)\n",
    "    plt.xlabel(attr)\n",
    "    plt.ylabel('Counts')\n",
    "plt.tight_layout()\n",
    "plt.show()"
   ]
  },
  {
   "cell_type": "code",
   "execution_count": null,
   "id": "3893be44-1599-4c95-9168-5c344b2a0d12",
   "metadata": {},
   "outputs": [],
   "source": []
  }
 ],
 "metadata": {
  "kernelspec": {
   "display_name": "Python 3 (ipykernel)",
   "language": "python",
   "name": "python3"
  },
  "language_info": {
   "codemirror_mode": {
    "name": "ipython",
    "version": 3
   },
   "file_extension": ".py",
   "mimetype": "text/x-python",
   "name": "python",
   "nbconvert_exporter": "python",
   "pygments_lexer": "ipython3",
   "version": "3.10.14+"
  }
 },
 "nbformat": 4,
 "nbformat_minor": 5
}
