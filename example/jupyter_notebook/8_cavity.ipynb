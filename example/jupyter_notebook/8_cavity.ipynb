{
 "cells": [
  {
   "cell_type": "code",
   "execution_count": null,
   "id": "f4eb716f-2b11-4adf-8e28-018a3ee07ee2",
   "metadata": {},
   "outputs": [],
   "source": [
    "import os\n",
    "import matplotlib.pyplot as plt\n",
    "from sovapy.core.file import File\n",
    "from sovapy.computation.cavity import Cavity"
   ]
  },
  {
   "cell_type": "markdown",
   "id": "4dccaf6a-48cf-482c-8693-9867ed92cb5d",
   "metadata": {},
   "source": [
    "### Load structural information from a xyz file"
   ]
  },
  {
   "cell_type": "code",
   "execution_count": null,
   "id": "0fac0e44-d428-4209-9045-032e3cf08178",
   "metadata": {},
   "outputs": [],
   "source": [
    "structure_file = \"../data/amorphous_md/a_SiO2_speed1e11K_rand.xyz\"\n",
    "f = File.open(structure_file)\n",
    "\n",
    "# Get atomic and cell (simulation box) data\n",
    "atoms = f.getatoms()"
   ]
  },
  {
   "cell_type": "markdown",
   "id": "84f94c2e-e071-45c7-b284-a194c776d2e7",
   "metadata": {},
   "source": [
    "### Cavity analysis"
   ]
  },
  {
   "cell_type": "code",
   "execution_count": null,
   "id": "adb19232-5b35-446e-bbaf-5da4232cb29c",
   "metadata": {},
   "outputs": [],
   "source": [
    "# Initialize Cavity class using atoms\n",
    "cavity = Cavity(atoms)\n",
    "\n",
    "# Calculate cavities\n",
    "cavity.calculate()"
   ]
  },
  {
   "cell_type": "markdown",
   "id": "389143d0-cd8b-4e88-aced-7a7bfc79fe8c",
   "metadata": {},
   "source": [
    "### Display caluculation results"
   ]
  },
  {
   "cell_type": "code",
   "execution_count": null,
   "id": "52768bd1-74b6-4ce5-83f8-6d5a0726754e",
   "metadata": {},
   "outputs": [],
   "source": [
    "print(\"Calculate domains\")\n",
    "print('Found {:d} domains'.format(len(cavity.domains.volumes)))\n",
    "index =  0\n",
    "print('Domain volume of index {} : {}'.format(index, cavity.domains.volumes[index]))\n",
    "print('Found {:d} critical domains in file {}. Domain indices: {}'.format(\n",
    "    len(cavity.domains.critical_domains), os.path.basename(structure_file), \n",
    "    cavity.domains.critical_domains))"
   ]
  },
  {
   "cell_type": "code",
   "execution_count": null,
   "id": "cb7221b8-2a19-4d08-9cba-01e28d63a7a6",
   "metadata": {},
   "outputs": [],
   "source": [
    "plt.figure(figsize=(6,3))\n",
    "plt.hist(cavity.domains.volumes)\n",
    "plt.xlabel('Volume')\n",
    "plt.ylabel('Counts')\n",
    "plt.show()"
   ]
  },
  {
   "cell_type": "code",
   "execution_count": null,
   "id": "e5fa20ce-70d5-4640-8d51-5c893f62461f",
   "metadata": {},
   "outputs": [],
   "source": []
  }
 ],
 "metadata": {
  "kernelspec": {
   "display_name": "Python 3 (ipykernel)",
   "language": "python",
   "name": "python3"
  },
  "language_info": {
   "codemirror_mode": {
    "name": "ipython",
    "version": 3
   },
   "file_extension": ".py",
   "mimetype": "text/x-python",
   "name": "python",
   "nbconvert_exporter": "python",
   "pygments_lexer": "ipython3",
   "version": "3.10.14+"
  }
 },
 "nbformat": 4,
 "nbformat_minor": 5
}
