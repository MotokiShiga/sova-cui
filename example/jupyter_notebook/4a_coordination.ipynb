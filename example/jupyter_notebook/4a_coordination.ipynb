{
 "cells": [
  {
   "cell_type": "code",
   "execution_count": null,
   "id": "93dad6dd-2249-4214-b728-2d98454fd113",
   "metadata": {},
   "outputs": [],
   "source": [
    "from sovapy.core.file import File\n",
    "from sovapy.computation.structure_factor import neighbor\n",
    "import matplotlib.pyplot as plt\n",
    "import numpy as np\n",
    "\n",
    "import sovapy\n",
    "print('sovapy ver: ', sovapy.__version__)"
   ]
  },
  {
   "cell_type": "markdown",
   "id": "728f8915-bdf1-4b1b-994e-afb263979a4d",
   "metadata": {},
   "source": [
    "### Load structural information from a xyz file"
   ]
  },
  {
   "cell_type": "code",
   "execution_count": null,
   "id": "78a18d3e-bbc9-4436-b2c7-c821ef07b5fc",
   "metadata": {},
   "outputs": [],
   "source": [
    "structure_file = \"../data/amorphous_md/a_SiO2_speed1e11K.xyz\"\n",
    "f = File.open(structure_file)"
   ]
  },
  {
   "cell_type": "markdown",
   "id": "c920367b-11df-4771-8902-3af90ac72162",
   "metadata": {},
   "source": [
    "### Get atomic and cell (simulation box) data"
   ]
  },
  {
   "cell_type": "code",
   "execution_count": null,
   "id": "15ffdf25-3bb4-4340-88c3-1968c03b1cd0",
   "metadata": {},
   "outputs": [],
   "source": [
    "atoms = f.get_atoms()"
   ]
  },
  {
   "cell_type": "markdown",
   "id": "22d959b8-4b58-43ab-a19d-e74d75847b54",
   "metadata": {},
   "source": [
    "### Setting of maximum bond lengths for atomic element pairs  \n",
    "Set -1 to pairs for which you don't want to build bonds."
   ]
  },
  {
   "cell_type": "code",
   "execution_count": null,
   "id": "1c7e0a3f-4f34-4549-ac14-1adee28e49d2",
   "metadata": {},
   "outputs": [],
   "source": [
    "bond_lengths = {('Si', 'O') : 2.0, ('Si', 'Si') : -1, ('O', 'O') : -1}\n",
    "atoms.set_bond_lengths(bond_lengths)"
   ]
  },
  {
   "cell_type": "markdown",
   "id": "7c084eed-a201-498f-82fe-7e798e2e9df3",
   "metadata": {},
   "source": [
    "### Summary of bond setting"
   ]
  },
  {
   "cell_type": "code",
   "execution_count": null,
   "id": "7bf7afe6-7a23-4ee0-a9ad-c7adf2e71175",
   "metadata": {},
   "outputs": [],
   "source": [
    "atoms.bond_summary()"
   ]
  },
  {
   "cell_type": "markdown",
   "id": "d01ef678-2706-4a88-8058-68b99dbc8a95",
   "metadata": {},
   "source": [
    "### Extract bond information"
   ]
  },
  {
   "cell_type": "code",
   "execution_count": null,
   "id": "0695eec9-d85b-491b-8b41-87ade9fae0b6",
   "metadata": {},
   "outputs": [],
   "source": [
    "# Indices of Si and O atoms\n",
    "ids_si = np.array([i for i, s in enumerate(atoms.symbols) if s == 'Si'])\n",
    "ids_o = np.array([i for i, s in enumerate(atoms.symbols) if s == 'O'])\n",
    "\n",
    "# List of corrdination numbers\n",
    "cnums = np.array([len(b) for b in atoms.bonds])\n",
    "\n",
    "# Lists of coordination numbers around Si and O atoms\n",
    "cnums_si = cnums[ids_si]\n",
    "cnums_o = cnums[ids_o]\n",
    "\n",
    "# Maxima of coordination numbers\n",
    "cn_max_si = cnums_si.max()\n",
    "cn_max_o  = cnums_o.max()"
   ]
  },
  {
   "cell_type": "markdown",
   "id": "612e2314-d347-4532-867e-37a93548de6d",
   "metadata": {},
   "source": [
    "### Histogram of coordination number around Si atom"
   ]
  },
  {
   "cell_type": "code",
   "execution_count": null,
   "id": "3610a52e-d5d4-474e-8328-e94d69732fde",
   "metadata": {},
   "outputs": [],
   "source": [
    "# Calculate the histogram\n",
    "hist_cn_si = np.zeros(cn_max_si + 2, dtype='int')\n",
    "for cn in range(cn_max_si+1):\n",
    "    hist_cn_si[cn] = np.sum(cnums_si==cn)\n",
    "\n",
    "# Plot distribution of coordination numbers\n",
    "cood_num = np.arange(cn_max_si + 2)\n",
    "plt.figure(figsize=(5,3))\n",
    "plt.bar(cood_num, hist_cn_si)\n",
    "plt.xlabel('Coordination number of Si atom')\n",
    "plt.ylabel('Counts')\n",
    "plt.xticks(cood_num)\n",
    "plt.show()"
   ]
  },
  {
   "cell_type": "markdown",
   "id": "de9e7226-7be4-4f08-8225-9bfde2a031bd",
   "metadata": {},
   "source": [
    "### Histogram of coordination number around O atom"
   ]
  },
  {
   "cell_type": "code",
   "execution_count": null,
   "id": "dda2c7fa-b773-4e46-94a4-91468694f1f9",
   "metadata": {},
   "outputs": [],
   "source": [
    "# Calculate the histogram\n",
    "hist_cn_o = np.zeros(cn_max_o +1, dtype='int')\n",
    "for cn in range(cn_max_o+1):\n",
    "    hist_cn_o[cn] = np.sum(cnums_o==cn)\n",
    "\n",
    "# Plot distribution of coordination numbers\n",
    "cood_num = np.arange(cn_max_o+1)\n",
    "plt.figure(figsize=(5,3))\n",
    "plt.bar(cood_num, hist_cn_o)\n",
    "plt.xlabel('Coordination number of O atom')\n",
    "plt.ylabel('Counts')\n",
    "plt.xticks(cood_num)\n",
    "plt.show()"
   ]
  },
  {
   "cell_type": "code",
   "execution_count": null,
   "id": "42542b70-689b-442b-91e3-5d7599ad71aa",
   "metadata": {},
   "outputs": [],
   "source": []
  }
 ],
 "metadata": {
  "kernelspec": {
   "display_name": "Python 3 (ipykernel)",
   "language": "python",
   "name": "python3"
  },
  "language_info": {
   "codemirror_mode": {
    "name": "ipython",
    "version": 3
   },
   "file_extension": ".py",
   "mimetype": "text/x-python",
   "name": "python",
   "nbconvert_exporter": "python",
   "pygments_lexer": "ipython3",
   "version": "3.12.9"
  }
 },
 "nbformat": 4,
 "nbformat_minor": 5
}
