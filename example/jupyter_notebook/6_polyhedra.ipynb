{
 "cells": [
  {
   "cell_type": "code",
   "execution_count": null,
   "id": "d02eaee0-bfa9-498d-a9fc-8a9a87f0801e",
   "metadata": {},
   "outputs": [],
   "source": [
    "from sovapy.core.file import File\n",
    "from sovapy.computation.structure_factor import polyhedra\n",
    "import matplotlib.pyplot as plt\n",
    "import numpy as np\n",
    "\n",
    "import sovapy\n",
    "print('sovapy ver: ', sovapy.__version__)"
   ]
  },
  {
   "cell_type": "markdown",
   "id": "bf690ce3-324f-44c0-9e13-c48229091b45",
   "metadata": {},
   "source": [
    "### Load structural information from a xyz file"
   ]
  },
  {
   "cell_type": "code",
   "execution_count": null,
   "id": "d9582da6-1c51-431b-bda8-649e44ebc130",
   "metadata": {},
   "outputs": [],
   "source": [
    "structure_file = \"../data/amorphous_md/a_SiO2_speed1e11K.xyz\"\n",
    "f = File.open(structure_file)\n",
    "\n",
    "# Get atomic and cell (simulation box) data\n",
    "atoms = f.getatoms()"
   ]
  },
  {
   "cell_type": "markdown",
   "id": "7c2a3e2a-b779-45b2-9d65-935f724fc407",
   "metadata": {},
   "source": [
    "### Calculate symmetry measure of polyhedra (q-value), whose center is Si and corners are O atoms.  \n",
    "The threshold distance between the center and a corner \n",
    "to build polyhedora is specified by rmax option."
   ]
  },
  {
   "cell_type": "code",
   "execution_count": null,
   "id": "f8768731-d54a-44d2-9ad6-e3742a0b8586",
   "metadata": {},
   "outputs": [],
   "source": [
    "polys = polyhedra(atoms,center='Si',around='O',rmax=2.0)"
   ]
  },
  {
   "cell_type": "markdown",
   "id": "8fd5476d-075d-4787-9c58-75e0d18c7b70",
   "metadata": {},
   "source": [
    "### q-value distribution"
   ]
  },
  {
   "cell_type": "code",
   "execution_count": null,
   "id": "02a0ab11-1e67-4ee1-8ccf-6ddc94fee71e",
   "metadata": {},
   "outputs": [],
   "source": [
    "# Collect caluculated q-values\n",
    "q_values = []\n",
    "for poly in polys:\n",
    "    if poly.q is not None:\n",
    "        q_values.append(poly.q)\n",
    "\n",
    "# Plot the q-value distribution\n",
    "y, x = np.histogram(q_values, bins=50, range=[0.75,1.01])\n",
    "plt.figure(figsize=(4,3))\n",
    "plt.bar((x[:-1]+x[1:])*0.5, y, width=0.8*(x[1]-x[0]))\n",
    "plt.xlim(0.75,1.001)\n",
    "plt.ylim(0, None)\n",
    "plt.xlabel('q-values')\n",
    "plt.ylabel('Counts')\n",
    "plt.show()"
   ]
  },
  {
   "cell_type": "code",
   "execution_count": null,
   "id": "4258e0f4-de63-4439-b15b-63512660d615",
   "metadata": {},
   "outputs": [],
   "source": []
  }
 ],
 "metadata": {
  "kernelspec": {
   "display_name": "Python 3 (ipykernel)",
   "language": "python",
   "name": "python3"
  },
  "language_info": {
   "codemirror_mode": {
    "name": "ipython",
    "version": 3
   },
   "file_extension": ".py",
   "mimetype": "text/x-python",
   "name": "python",
   "nbconvert_exporter": "python",
   "pygments_lexer": "ipython3",
   "version": "3.10.14+"
  }
 },
 "nbformat": 4,
 "nbformat_minor": 5
}
