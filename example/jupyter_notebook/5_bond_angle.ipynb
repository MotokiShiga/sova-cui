{
 "cells": [
  {
   "cell_type": "code",
   "execution_count": null,
   "id": "679886bf-c300-4ac2-91eb-ab263dfc6723",
   "metadata": {},
   "outputs": [],
   "source": [
    "from sovapy.core.file import File\n",
    "from sovapy.computation.structure_factor import bond_angle_hist\n",
    "import matplotlib.pyplot as plt\n",
    "\n",
    "import sovapy\n",
    "print('sovapy ver: ', sovapy.__version__)"
   ]
  },
  {
   "cell_type": "markdown",
   "id": "e579af58-729f-4857-9f86-10c7312a341b",
   "metadata": {},
   "source": [
    "### Load structural information from a xyz file"
   ]
  },
  {
   "cell_type": "code",
   "execution_count": null,
   "id": "84b02e9e-7ecf-482a-903c-2111ed6386af",
   "metadata": {},
   "outputs": [],
   "source": [
    "structure_file = \"../data/amorphous_md/a_SiO2_speed1e11K.xyz\"\n",
    "f = File.open(structure_file)\n",
    "\n",
    "# Get atomic and cell (simulation box) data\n",
    "atoms = f.get_atoms()"
   ]
  },
  {
   "cell_type": "markdown",
   "id": "3826da73-4bea-4e8f-9092-f3929bca7d1f",
   "metadata": {},
   "source": [
    "### Build chemical bonds by setting maximum distances"
   ]
  },
  {
   "cell_type": "code",
   "execution_count": null,
   "id": "6e000f96-637e-4aa5-90d6-b5b6b772aa44",
   "metadata": {},
   "outputs": [],
   "source": [
    "bond_lengths = {('Si', 'O') : 1.77, ('Si', 'Si') : 1.32, ('O', 'O') : 2.22}\n",
    "atoms.set_bond_lengths(bond_lengths) #build chemical bonds"
   ]
  },
  {
   "cell_type": "markdown",
   "id": "226b177c-4587-4a98-a737-7497b6c95076",
   "metadata": {},
   "source": [
    "### Calculate bond angle distributions"
   ]
  },
  {
   "cell_type": "code",
   "execution_count": null,
   "id": "ea69c727-f53b-4f42-a75e-5dc56393db76",
   "metadata": {},
   "outputs": [],
   "source": [
    "angle, hist = bond_angle_hist(atoms, num_bins=30, norm_sin=True, prob=True)"
   ]
  },
  {
   "cell_type": "markdown",
   "id": "c7e3d2d7-e596-4515-9e28-e0dc018fa6a1",
   "metadata": {},
   "source": [
    "### Plot bond angle distributions"
   ]
  },
  {
   "cell_type": "code",
   "execution_count": null,
   "id": "c5c6942c-4786-452d-8104-3472b6427793",
   "metadata": {},
   "outputs": [],
   "source": [
    "# Generate text labels of trios \n",
    "label_trios = list()\n",
    "for trio in atoms.trios:\n",
    "    label_trios.append(trio[0] + '-' + trio[1] + '-' + trio[2])\n",
    "\n",
    "w = angle[1]-angle[0]\n",
    "fig = plt.figure(figsize=(12, 5)) \n",
    "fig.suptitle(\"{} : TRIPLETS - bond angle correlations\".format(structure_file))\n",
    "for i, trio in enumerate(atoms.trios):\n",
    "    ax = fig.add_subplot(2, 3, i+1)\n",
    "    ax.bar(angle, hist[i], width=w*0.8, label=label_trios[i])\n",
    "    ax.set_xlim(0.0,180.0)\n",
    "    ax.set_ylim(0,1.0)\n",
    "    ax.set_xlabel('Angle (Degree)')\n",
    "    ax.set_ylabel('Probability')\n",
    "    ax.legend()\n",
    "plt.subplots_adjust(wspace=0.3)\n",
    "plt.subplots_adjust(hspace=0.3)\n",
    "plt.show()"
   ]
  },
  {
   "cell_type": "code",
   "execution_count": null,
   "id": "4779e7cf-14df-4c1d-a6a5-a1a778632cb9",
   "metadata": {},
   "outputs": [],
   "source": []
  },
  {
   "cell_type": "code",
   "execution_count": null,
   "id": "c5d893f2-e43a-4604-b824-7559f7eb2e67",
   "metadata": {},
   "outputs": [],
   "source": []
  }
 ],
 "metadata": {
  "kernelspec": {
   "display_name": "Python 3 (ipykernel)",
   "language": "python",
   "name": "python3"
  },
  "language_info": {
   "codemirror_mode": {
    "name": "ipython",
    "version": 3
   },
   "file_extension": ".py",
   "mimetype": "text/x-python",
   "name": "python",
   "nbconvert_exporter": "python",
   "pygments_lexer": "ipython3",
   "version": "3.12.9"
  }
 },
 "nbformat": 4,
 "nbformat_minor": 5
}
