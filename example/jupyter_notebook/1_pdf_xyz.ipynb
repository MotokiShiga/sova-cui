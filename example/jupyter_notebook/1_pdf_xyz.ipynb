{
 "cells": [
  {
   "cell_type": "code",
   "execution_count": null,
   "id": "cc69e23b-dff4-477a-8473-a31615b6fd8d",
   "metadata": {},
   "outputs": [],
   "source": [
    "from sovapy.core.file import File\n",
    "from sovapy.computation.structure_factor import (histogram,gr,total_gr,SQ,total_SQ,total_FQ,\n",
    "                                    ncoeff,xcoeff,Gr,Tr,Nr)\n",
    "import matplotlib.pyplot as plt\n",
    "\n",
    "import sovapy\n",
    "print('sovapy ver: ', sovapy.__version__)"
   ]
  },
  {
   "cell_type": "markdown",
   "id": "0bf160a8-6f2d-4a8d-b34e-9bbd917abc11",
   "metadata": {},
   "source": [
    "### Load structural information from a xyz file\n",
    "The second line (CUB 24.713) in the xyz file indicates the shape of cell and its length.  \n",
    "(CUB means cubics.)"
   ]
  },
  {
   "cell_type": "code",
   "execution_count": null,
   "id": "9f642745-fee4-48d0-bc3a-9010a2f8e1b5",
   "metadata": {},
   "outputs": [],
   "source": [
    "structure_file = \"../data/amorphous_md/a_SiO2_speed1e11K.xyz\"\n",
    "f = File.open(structure_file)"
   ]
  },
  {
   "cell_type": "markdown",
   "id": "7f32bd6a-5f4f-46b8-88e3-2e8d19e47dd1",
   "metadata": {},
   "source": [
    "### Get atomic and cell (simulation box) data"
   ]
  },
  {
   "cell_type": "code",
   "execution_count": null,
   "id": "4ae0c1f3-094e-402b-8263-eb75e8da4371",
   "metadata": {},
   "outputs": [],
   "source": [
    "atoms = f.getatoms()"
   ]
  },
  {
   "cell_type": "code",
   "execution_count": null,
   "id": "2c1af71d-019e-4104-a744-094c90c25ff2",
   "metadata": {},
   "outputs": [],
   "source": [
    "print(\"Atom symbols:\", atoms.symbols)\n",
    "\n",
    "print(\"Is the periodicity information of the cell available?:\")\n",
    "print(atoms.volume.periodic)\n",
    "# SOVA requires the periodicity information to compute PDF functions.\n",
    "# Only histograms of distances between atom pairs can be computed without it."
   ]
  },
  {
   "cell_type": "markdown",
   "id": "cfcdc1dc-17e9-4cfd-bab0-896da90b5ee7",
   "metadata": {},
   "source": [
    "### Histograms of distances between atom pairs"
   ]
  },
  {
   "cell_type": "code",
   "execution_count": null,
   "id": "10e416b4-14a9-4f85-8d8f-3ca180edeaa7",
   "metadata": {},
   "outputs": [],
   "source": [
    "dr = 0.05   # bin width \n",
    "r, hist = histogram(atoms,dr) # calculate histograms\n",
    "# Input symbols option to determine plot order of atoms \n",
    "#r, hist = histogram(atoms,dr,symbols=['Si','O'])\n",
    "\n",
    "# Plot histograms of pair distance\n",
    "fig = plt.figure(figsize=(12, 4)) \n",
    "for i in range(3):\n",
    "    ax = fig.add_subplot(1, 3, i+1)\n",
    "    ax.bar(r, hist.T[i], width=dr*0.8, label=atoms.pairs[i])\n",
    "    ax.set_xlim(0.0,5.0)\n",
    "    ax.set_ylim(0,500)\n",
    "    ax.set_xlabel('r(Å)')\n",
    "    ax.set_ylabel('Number')\n",
    "    ax.legend()\n",
    "plt.subplots_adjust(wspace=0.3)\n",
    "plt.show()"
   ]
  },
  {
   "cell_type": "markdown",
   "id": "6e29f80f-83a2-41e2-9549-ae02aae728a5",
   "metadata": {},
   "source": [
    "### Calculate PDF functions"
   ]
  },
  {
   "cell_type": "code",
   "execution_count": null,
   "id": "dddf29e5-03c6-483f-86dc-1e87aa236f79",
   "metadata": {},
   "outputs": [],
   "source": [
    "# Calculate g(r)\n",
    "r, gr = gr(atoms,hist,dr)\n",
    "\n",
    "# Calculate Total g(r)\n",
    "coeff = ncoeff(atoms.symbols,atoms.frac)\n",
    "total_gr = total_gr(gr,coeff)\n",
    "\n",
    "# Calculate S(Q)\n",
    "dq = 0.05\n",
    "qmin = 0.3\n",
    "qmax = 25.0\n",
    "q, sq = SQ(atoms,gr,qmin,qmax,dr,dq)\n",
    "\n",
    "# Calculate Total S(Q)\n",
    "total_sq = total_SQ(sq,coeff)\n",
    "\n",
    "# Calculate F(Q)\n",
    "coeff = xcoeff(atoms.symbols,atoms.frac,q)\n",
    "total_fq = total_FQ(sq,coeff)\n",
    "\n",
    "# Calculate Gr\n",
    "rho = atoms.rho\n",
    "_Gr = Gr(r,total_gr,rho)\n",
    "\n",
    "# Calculate Tr\n",
    "_Tr = Tr(r,total_gr,rho)\n",
    "\n",
    "# Calculate Nr\n",
    "_Nr = Nr(r,_Tr)"
   ]
  },
  {
   "cell_type": "markdown",
   "id": "3a41d0fa-db73-42dd-971b-35794926a093",
   "metadata": {},
   "source": [
    "### Plot calculated functions g(r), total g(r), et al."
   ]
  },
  {
   "cell_type": "code",
   "execution_count": null,
   "id": "93169eba-0500-4f03-b8b9-8e7e81ef2009",
   "metadata": {},
   "outputs": [],
   "source": [
    "fig = plt.figure(figsize=(18, 8)) \n",
    "ax = fig.add_subplot(2, 4, 1)\n",
    "for i in range(3):    \n",
    "    ax.plot(r, gr.T[i], label=atoms.pairs[i])\n",
    "    ax.set_xlabel('r(Å)')\n",
    "    ax.set_ylabel('Partial g(r)')\n",
    "    ax.legend()\n",
    "\n",
    "ax = fig.add_subplot(2, 4, 2)\n",
    "ax.set_xlabel('r(Å)')\n",
    "ax.set_ylabel('Total g(r)')\n",
    "ax.plot(r,total_gr)\n",
    "\n",
    "ax = fig.add_subplot(2, 4, 3)\n",
    "for i in range(3):    \n",
    "    ax.plot(q, sq.T[i], label=atoms.pairs[i])\n",
    "    ax.set_xlabel('Q(Å^-1)')\n",
    "    ax.set_ylabel('Partial S(Q)')\n",
    "    ax.legend()\n",
    "\n",
    "ax = fig.add_subplot(2, 4, 4)\n",
    "ax.set_xlabel('Q(Å^-1)')\n",
    "ax.set_ylabel('Total Neutron S(Q)')\n",
    "ax.plot(q, total_sq)\n",
    "\n",
    "ax = fig.add_subplot(2, 4, 5)\n",
    "ax.set_xlabel('Q(Å^-1)')\n",
    "ax.set_ylabel('Total X-ray S(Q)')\n",
    "ax.plot(q, total_fq)\n",
    "\n",
    "ax = fig.add_subplot(2, 4, 6)\n",
    "ax.set_xlabel('r(Å)')\n",
    "ax.set_ylabel('G(r)')\n",
    "ax.plot(r, _Gr)\n",
    "\n",
    "ax = fig.add_subplot(2, 4, 7)\n",
    "ax.set_xlabel('r(Å)')\n",
    "ax.set_ylabel('T(r)')\n",
    "ax.plot(r, _Tr)\n",
    "\n",
    "ax = fig.add_subplot(2, 4, 8)\n",
    "ax.set_xlabel('r(Å)')\n",
    "ax.set_title('N(r)')\n",
    "ax.plot(r, _Nr)\n",
    "\n",
    "plt.subplots_adjust(wspace=0.3)\n",
    "plt.subplots_adjust(hspace=0.3)\n",
    "plt.show()"
   ]
  },
  {
   "cell_type": "code",
   "execution_count": null,
   "id": "66019954-69a8-4155-8954-2ec61af68735",
   "metadata": {},
   "outputs": [],
   "source": []
  }
 ],
 "metadata": {
  "kernelspec": {
   "display_name": "Python 3 (ipykernel)",
   "language": "python",
   "name": "python3"
  },
  "language_info": {
   "codemirror_mode": {
    "name": "ipython",
    "version": 3
   },
   "file_extension": ".py",
   "mimetype": "text/x-python",
   "name": "python",
   "nbconvert_exporter": "python",
   "pygments_lexer": "ipython3",
   "version": "3.10.14+"
  }
 },
 "nbformat": 4,
 "nbformat_minor": 5
}
