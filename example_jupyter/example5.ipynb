{
 "cells": [
  {
   "cell_type": "markdown",
   "id": "d3c54775-67c3-4458-8d8b-c2992d3e2f97",
   "metadata": {},
   "source": [
    "Cavity解析のサンプル"
   ]
  },
  {
   "cell_type": "code",
   "execution_count": 1,
   "id": "33832aeb-a63e-4a4c-818e-990eb5ca74b6",
   "metadata": {},
   "outputs": [],
   "source": [
    "import os\n",
    "from sova.core.file import File\n",
    "from sova.computation.cavity import Cavity"
   ]
  },
  {
   "cell_type": "code",
   "execution_count": 2,
   "id": "f201c19f-bd55-4b1c-8280-3c65628a8f1e",
   "metadata": {},
   "outputs": [],
   "source": [
    "path = \"../data/amorphous_rmc/sio.cfg\"\n",
    "f = File.open(path)\n",
    "elements = ['Si','O']\n",
    "atoms = f.getatoms(0, elements)"
   ]
  },
  {
   "cell_type": "markdown",
   "id": "04d12120-5492-4339-9da8-08055a3bc1e6",
   "metadata": {},
   "source": [
    "CavityクラスにAtomsクラスオブジェクトを渡す"
   ]
  },
  {
   "cell_type": "code",
   "execution_count": 3,
   "id": "620d1223-db4f-40e4-9a9b-a153baf69dd9",
   "metadata": {},
   "outputs": [],
   "source": [
    "cavity = Cavity(atoms)\n",
    "\n",
    "#Cavity計算\n",
    "cavity.calculate()"
   ]
  },
  {
   "cell_type": "code",
   "execution_count": 4,
   "id": "b1ee0aba-dd1d-48ec-8693-c7ce41c0d143",
   "metadata": {},
   "outputs": [
    {
     "name": "stdout",
     "output_type": "stream",
     "text": [
      "Calculate domains\n",
      "Found 33 domains\n",
      "Domain volume of index 0 : 0.8398979905150538\n",
      "Found 13 critical domains in file sio.cfg. Domain indices: [5, 6, 7, 10, 11, 15, 16, 17, 18, 22, 23, 27, 28]\n"
     ]
    }
   ],
   "source": [
    "domains = cavity.domains\n",
    "\n",
    "print(\"Calculate domains\")\n",
    "print('Found {:d} domains'.format(len(domains.volumes)))\n",
    "index =  0\n",
    "print('Domain volume of index {} : {}'.format(index, domains.volumes[index]))\n",
    "print('Found {:d} critical domains in file {}. Domain indices: {}'.format(\n",
    "    len(domains.critical_domains), os.path.basename(path), \n",
    "    domains.critical_domains))"
   ]
  }
 ],
 "metadata": {
  "kernelspec": {
   "display_name": "Python 3 (ipykernel)",
   "language": "python",
   "name": "python3"
  },
  "language_info": {
   "codemirror_mode": {
    "name": "ipython",
    "version": 3
   },
   "file_extension": ".py",
   "mimetype": "text/x-python",
   "name": "python",
   "nbconvert_exporter": "python",
   "pygments_lexer": "ipython3",
   "version": "3.10.9"
  }
 },
 "nbformat": 4,
 "nbformat_minor": 5
}
