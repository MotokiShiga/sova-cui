{
 "cells": [
  {
   "cell_type": "markdown",
   "id": "1ef541f1-e680-404d-9389-8ed7df6ab0a8",
   "metadata": {},
   "source": [
    "cifファイル( sio2_beta_cristobalite222.cif )とcfgファイル( sio.cfg )のPDF解析"
   ]
  },
  {
   "cell_type": "code",
   "execution_count": 1,
   "id": "b6e46cf4-cd54-4669-ba5b-a95e248e7b35",
   "metadata": {},
   "outputs": [
    {
     "ename": "ModuleNotFoundError",
     "evalue": "No module named 'sova.computation.statistics'",
     "output_type": "error",
     "traceback": [
      "\u001b[1;31m---------------------------------------------------------------------------\u001b[0m",
      "\u001b[1;31mModuleNotFoundError\u001b[0m                       Traceback (most recent call last)",
      "Cell \u001b[1;32mIn[1], line 2\u001b[0m\n\u001b[0;32m      1\u001b[0m \u001b[38;5;28;01mfrom\u001b[39;00m \u001b[38;5;21;01msova\u001b[39;00m\u001b[38;5;21;01m.\u001b[39;00m\u001b[38;5;21;01mcore\u001b[39;00m\u001b[38;5;21;01m.\u001b[39;00m\u001b[38;5;21;01mfile\u001b[39;00m \u001b[38;5;28;01mimport\u001b[39;00m File\n\u001b[1;32m----> 2\u001b[0m \u001b[38;5;28;01mfrom\u001b[39;00m \u001b[38;5;21;01msova\u001b[39;00m\u001b[38;5;21;01m.\u001b[39;00m\u001b[38;5;21;01mcomputation\u001b[39;00m\u001b[38;5;21;01m.\u001b[39;00m\u001b[38;5;21;01mstatistics\u001b[39;00m \u001b[38;5;28;01mimport\u001b[39;00m (histogram,gr,total_gr,SQ,total_SQ,total_FQ,\n\u001b[0;32m      3\u001b[0m                                     ncoeff,xcoeff,Gr,Tr,Nr)\n\u001b[0;32m      4\u001b[0m \u001b[38;5;28;01mimport\u001b[39;00m \u001b[38;5;21;01mmatplotlib\u001b[39;00m\u001b[38;5;21;01m.\u001b[39;00m\u001b[38;5;21;01mpyplot\u001b[39;00m \u001b[38;5;28;01mas\u001b[39;00m \u001b[38;5;21;01mplt\u001b[39;00m\n\u001b[0;32m      5\u001b[0m get_ipython()\u001b[38;5;241m.\u001b[39mrun_line_magic(\u001b[38;5;124m'\u001b[39m\u001b[38;5;124mmatplotlib\u001b[39m\u001b[38;5;124m'\u001b[39m, \u001b[38;5;124m'\u001b[39m\u001b[38;5;124minline\u001b[39m\u001b[38;5;124m'\u001b[39m)\n",
      "\u001b[1;31mModuleNotFoundError\u001b[0m: No module named 'sova.computation.statistics'"
     ]
    }
   ],
   "source": [
    "from sova.core.file import File\n",
    "from sova.computation.structure_factor import (histogram,gr,total_gr,SQ,total_SQ,total_FQ,\n",
    "                                    ncoeff,xcoeff,Gr,Tr,Nr)\n",
    "import matplotlib.pyplot as plt\n",
    "%matplotlib inline"
   ]
  },
  {
   "cell_type": "markdown",
   "id": "33c5f5ce-d35c-40cb-b2df-8a4d3032fdf3",
   "metadata": {},
   "source": [
    "cifファイルを読み込む"
   ]
  },
  {
   "cell_type": "code",
   "execution_count": null,
   "id": "45a86129-eacd-4617-a853-922064ba5c04",
   "metadata": {},
   "outputs": [],
   "source": [
    "path = \"../data/crystal/sio2_beta_cristobalite222.cif\"\n",
    "f = File.open(path)\n",
    "atoms = f.getatoms()\n",
    "print(atoms.symbols)"
   ]
  },
  {
   "cell_type": "code",
   "execution_count": null,
   "id": "e28db8ec-a1be-4394-9188-c1dad8fe190f",
   "metadata": {},
   "outputs": [],
   "source": [
    "dr = 0.05\n",
    "r, hist = histogram(atoms, dr)"
   ]
  },
  {
   "cell_type": "code",
   "execution_count": null,
   "id": "d2f146c6-8ce8-469b-8235-d781c0480323",
   "metadata": {},
   "outputs": [],
   "source": [
    "fig = plt.figure(figsize=(12, 5)) \n",
    "for i in range(3):\n",
    "    ax = fig.add_subplot(1, 3, i+1)\n",
    "    ax.bar(r, hist.T[i], width=dr*0.8, label=atoms.pairs[i])\n",
    "    ax.set_xlim(0.0,5.0)\n",
    "    ax.set_ylim(0,500)\n",
    "    ax.legend()\n",
    "plt.show()"
   ]
  },
  {
   "cell_type": "code",
   "execution_count": null,
   "id": "2b6e818b-312e-4d66-97e9-bfcd2cd1ff3c",
   "metadata": {},
   "outputs": [],
   "source": [
    "# calculate g(r)\n",
    "r, gr = gr(atoms,hist,dr)\n",
    "\n",
    "# calculate Total g(r)\n",
    "coeff = ncoeff(atoms.symbols,atoms.frac)\n",
    "total_gr = total_gr(gr,coeff)\n",
    "\n",
    "# calculate S(Q)\n",
    "dq = 0.05\n",
    "qmin = 0.3\n",
    "qmax = 25.0\n",
    "q, sq = SQ(atoms,gr,qmin,qmax,dr,dq)\n",
    "\n",
    "# calculate Total S(Q)\n",
    "total_sq = total_SQ(sq,coeff)\n",
    "\n",
    "# calculate F(Q)\n",
    "coeff = xcoeff(atoms.symbols,atoms.frac,q)\n",
    "total_fq = total_FQ(sq,coeff)\n",
    "\n",
    "# calculate Gr\n",
    "rho = atoms.rho\n",
    "_Gr = Gr(r,total_gr,rho)\n",
    "\n",
    "# calculate Tr\n",
    "_Tr = Tr(r,total_gr,rho)\n",
    "\n",
    "# calculate Nr\n",
    "_Nr = Nr(r,_Tr)\n",
    "\n",
    "# show graph\n",
    "fig = plt.figure(figsize=(18, 8)) \n",
    "ax = fig.add_subplot(2, 4, 1)\n",
    "ax.set_title('Partial g(r)')\n",
    "for i in range(3):    \n",
    "    ax.plot(r, gr.T[i], label=atoms.pairs[i])\n",
    "    ax.legend()\n",
    "\n",
    "ax = fig.add_subplot(2, 4, 2)\n",
    "ax.set_title('Total g(r)')\n",
    "ax.plot(r,total_gr)\n",
    "\n",
    "ax = fig.add_subplot(2, 4, 3)\n",
    "ax.set_title('Partial S(Q)')\n",
    "for i in range(3):    \n",
    "    ax.plot(q, sq.T[i], label=atoms.pairs[i])\n",
    "    ax.legend()\n",
    "\n",
    "ax = fig.add_subplot(2, 4, 4)\n",
    "ax.set_title('Total Neutron S(Q)')\n",
    "ax.plot(q, total_sq)\n",
    "\n",
    "ax = fig.add_subplot(2, 4, 5)\n",
    "ax.set_title('Total X-ray S(Q)')\n",
    "ax.plot(q, total_fq)\n",
    "\n",
    "ax = fig.add_subplot(2, 4, 6)\n",
    "ax.set_title('G(r)')\n",
    "ax.plot(r, _Gr)\n",
    "\n",
    "ax = fig.add_subplot(2, 4, 7)\n",
    "ax.set_title('T(r)')\n",
    "ax.plot(r, _Tr)\n",
    "\n",
    "ax = fig.add_subplot(2, 4, 8)\n",
    "ax.set_title('N(r)')\n",
    "ax.plot(r, _Nr)\n",
    "\n",
    "plt.show()"
   ]
  },
  {
   "cell_type": "markdown",
   "id": "04e78bbd-4233-415c-a013-217262b6068b",
   "metadata": {},
   "source": [
    "cfgファイルを読み込む"
   ]
  },
  {
   "cell_type": "code",
   "execution_count": null,
   "id": "61ea7df9-fc57-48dc-b975-7953099153fd",
   "metadata": {},
   "outputs": [],
   "source": [
    "path = \"../data/amorphous_rmc/sio.cfg\"\n",
    "f = File.open(path)\n",
    "elements = ['Si','O']\n",
    "atoms = f.getatoms(0,elements)\n",
    "dr = 0.05"
   ]
  },
  {
   "cell_type": "code",
   "execution_count": null,
   "id": "57b831ce-04ba-45aa-a238-5f7bdfbbf23a",
   "metadata": {},
   "outputs": [],
   "source": [
    "# calculate histogram\n",
    "r, hist = histogram(atoms,dr,symbols=['Si','O'])"
   ]
  },
  {
   "cell_type": "code",
   "execution_count": null,
   "id": "eafc9b99-005e-4c2b-a4dc-61156dcc6220",
   "metadata": {},
   "outputs": [],
   "source": [
    "fig = plt.figure(figsize=(12, 5)) \n",
    "for i in range(3):\n",
    "    ax = fig.add_subplot(1, 3, i+1)\n",
    "    ax.bar(r, hist.T[i], width=dr*0.8, label=atoms.pairs[i])\n",
    "    ax.set_xlim(0.0,5.0)\n",
    "    ax.set_ylim(0,800)\n",
    "    ax.legend()\n",
    "plt.show()"
   ]
  },
  {
   "cell_type": "code",
   "execution_count": null,
   "id": "355622b4-74b3-4a5f-8fe8-1cc8167ad87b",
   "metadata": {},
   "outputs": [],
   "source": [
    "# calculate g(r)\n",
    "r, gr = gr(atoms,hist,dr)\n",
    "\n",
    "# calculate Total g(r)\n",
    "coeff = ncoeff(atoms.symbols,atoms.frac)\n",
    "total_gr = total_gr(gr,coeff)\n",
    "\n",
    "# calculate S(Q)\n",
    "dq = 0.05\n",
    "qmin = 0.3\n",
    "qmax = 25.0\n",
    "q, sq = SQ(atoms,gr,qmin,qmax,dr,dq)\n",
    "\n",
    "# calculate Total S(Q)\n",
    "total_sq = total_SQ(sq,coeff)\n",
    "\n",
    "# calculate F(Q)\n",
    "coeff = xcoeff(atoms.symbols,atoms.frac,q)\n",
    "total_fq = total_FQ(sq,coeff)\n",
    "\n",
    "# calculate Gr\n",
    "rho = atoms.rho\n",
    "_Gr = Gr(r,total_gr,rho)\n",
    "\n",
    "# calculate Tr\n",
    "_Tr = Tr(r,total_gr,rho)\n",
    "\n",
    "# calculate Nr\n",
    "_Nr = Nr(r,_Tr)\n",
    "\n",
    "# show graph\n",
    "fig = plt.figure(figsize=(18, 8)) \n",
    "ax = fig.add_subplot(2, 4, 1)\n",
    "ax.set_title('Partial g(r)')\n",
    "for i in range(3):    \n",
    "    ax.plot(r, gr.T[i], label=atoms.pairs[i])\n",
    "    ax.legend()\n",
    "\n",
    "ax = fig.add_subplot(2, 4, 2)\n",
    "ax.set_title('Total g(r)')\n",
    "ax.plot(r,total_gr)\n",
    "\n",
    "ax = fig.add_subplot(2, 4, 3)\n",
    "ax.set_title('Partial S(Q)')\n",
    "for i in range(3):    \n",
    "    ax.plot(q, sq.T[i], label=atoms.pairs[i])\n",
    "    ax.legend()\n",
    "\n",
    "ax = fig.add_subplot(2, 4, 4)\n",
    "ax.set_title('Total Neutron S(Q)')\n",
    "ax.plot(q, total_sq)\n",
    "\n",
    "ax = fig.add_subplot(2, 4, 5)\n",
    "ax.set_title('Total X-ray S(Q)')\n",
    "ax.plot(q, total_fq)\n",
    "\n",
    "ax = fig.add_subplot(2, 4, 6)\n",
    "ax.set_title('G(r)')\n",
    "ax.plot(r, _Gr)\n",
    "\n",
    "ax = fig.add_subplot(2, 4, 7)\n",
    "ax.set_title('T(r)')\n",
    "ax.plot(r, _Tr)\n",
    "\n",
    "ax = fig.add_subplot(2, 4, 8)\n",
    "ax.set_title('N(r)')\n",
    "ax.plot(r, _Nr)\n",
    "\n",
    "plt.show()"
   ]
  },
  {
   "cell_type": "code",
   "execution_count": null,
   "id": "e5ced753-5dd2-408f-a913-1f6ebed9071e",
   "metadata": {},
   "outputs": [],
   "source": []
  }
 ],
 "metadata": {
  "kernelspec": {
   "display_name": "Python 3 (ipykernel)",
   "language": "python",
   "name": "python3"
  },
  "language_info": {
   "codemirror_mode": {
    "name": "ipython",
    "version": 3
   },
   "file_extension": ".py",
   "mimetype": "text/x-python",
   "name": "python",
   "nbconvert_exporter": "python",
   "pygments_lexer": "ipython3",
   "version": "3.10.9"
  }
 },
 "nbformat": 4,
 "nbformat_minor": 5
}
