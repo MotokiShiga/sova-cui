{
 "cells": [
  {
   "cell_type": "code",
   "execution_count": 1,
   "id": "44449d17-2c8f-408e-ae87-ee8f7db1a513",
   "metadata": {},
   "outputs": [],
   "source": [
    "from sova.core.file import File"
   ]
  },
  {
   "cell_type": "code",
   "execution_count": 2,
   "id": "c4f726dd-5d93-4759-9810-115b5acb32d8",
   "metadata": {},
   "outputs": [],
   "source": [
    "path = \"../data/amorphous_rmc/sio.cfg\"\n",
    "f = File.open(path)\n",
    "elements = ['Si','O']\n",
    "atoms = f.getatoms(0, elements)"
   ]
  },
  {
   "cell_type": "code",
   "execution_count": 3,
   "id": "14f9e194-00e1-4a94-a294-1af5c101bdb2",
   "metadata": {},
   "outputs": [],
   "source": [
    "atom_index = 1000"
   ]
  },
  {
   "cell_type": "code",
   "execution_count": 4,
   "id": "8afda132-a849-4463-9bd7-902763a810bc",
   "metadata": {},
   "outputs": [
    {
     "name": "stdout",
     "output_type": "stream",
     "text": [
      "['O', 'Si']\n"
     ]
    }
   ],
   "source": [
    "# fileに含まれる元素種類を表示\n",
    "print(atoms.elements_kind)"
   ]
  },
  {
   "cell_type": "code",
   "execution_count": 5,
   "id": "81a65a8f-23c3-4cf1-82cf-b4eb58c4241f",
   "metadata": {},
   "outputs": [
    {
     "name": "stdout",
     "output_type": "stream",
     "text": [
      "3000\n"
     ]
    }
   ],
   "source": [
    "# データの原子数を表示\n",
    "print(atoms.number)"
   ]
  },
  {
   "cell_type": "code",
   "execution_count": 6,
   "id": "9d04fefc-3fce-4fb6-b287-076c5184ef3a",
   "metadata": {},
   "outputs": [
    {
     "name": "stdout",
     "output_type": "stream",
     "text": [
      "O\n"
     ]
    }
   ],
   "source": [
    "# atom_indexの元素を表示\n",
    "print(atoms.elements[atom_index])"
   ]
  },
  {
   "cell_type": "code",
   "execution_count": 7,
   "id": "7bac5dab-c636-40ab-9988-39f8cb8c94b0",
   "metadata": {},
   "outputs": [
    {
     "name": "stdout",
     "output_type": "stream",
     "text": [
      "[ 5.55704946  3.01255039 16.89815556]\n"
     ]
    }
   ],
   "source": [
    "# atom_indexの座標を表示\n",
    "print(atoms.positions[atom_index])"
   ]
  },
  {
   "cell_type": "code",
   "execution_count": 8,
   "id": "d5507315-19f2-45e3-91c9-e49ff804774a",
   "metadata": {},
   "outputs": [
    {
     "name": "stdout",
     "output_type": "stream",
     "text": [
      "CUB 35.662088\n"
     ]
    }
   ],
   "source": [
    "# データの情報を表示\n",
    "print(atoms.volume)"
   ]
  },
  {
   "cell_type": "code",
   "execution_count": 9,
   "id": "39e3bc8c-1418-4126-ad05-a1aebc673a46",
   "metadata": {},
   "outputs": [
    {
     "name": "stdout",
     "output_type": "stream",
     "text": [
      "[630, 794]\n"
     ]
    }
   ],
   "source": [
    "# atom_indexの結合している原子インデックスを表示\n",
    "print(atoms.bonds[atom_index])"
   ]
  }
 ],
 "metadata": {
  "kernelspec": {
   "display_name": "Python 3 (ipykernel)",
   "language": "python",
   "name": "python3"
  },
  "language_info": {
   "codemirror_mode": {
    "name": "ipython",
    "version": 3
   },
   "file_extension": ".py",
   "mimetype": "text/x-python",
   "name": "python",
   "nbconvert_exporter": "python",
   "pygments_lexer": "ipython3",
   "version": "3.10.9"
  }
 },
 "nbformat": 4,
 "nbformat_minor": 5
}
